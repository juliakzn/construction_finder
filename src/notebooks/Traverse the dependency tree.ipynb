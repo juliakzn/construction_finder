{
 "cells": [
  {
   "cell_type": "code",
   "execution_count": 14,
   "id": "362db794",
   "metadata": {},
   "outputs": [],
   "source": [
    "from typing import List"
   ]
  },
  {
   "cell_type": "code",
   "execution_count": 2,
   "id": "9e018b36",
   "metadata": {},
   "outputs": [],
   "source": [
    "import spacy"
   ]
  },
  {
   "cell_type": "code",
   "execution_count": null,
   "id": "4ca2b623",
   "metadata": {},
   "outputs": [],
   "source": []
  },
  {
   "cell_type": "code",
   "execution_count": 3,
   "id": "f93224b8",
   "metadata": {},
   "outputs": [],
   "source": [
    "nlp = spacy.load(\"en_core_web_lg\")"
   ]
  },
  {
   "cell_type": "code",
   "execution_count": 4,
   "id": "3a0e5d65",
   "metadata": {},
   "outputs": [],
   "source": [
    "txt1 = \"And they gave some of the most wonderful gifts to everyone.\"\n",
    "doc1 = nlp(txt1)"
   ]
  },
  {
   "cell_type": "code",
   "execution_count": 8,
   "id": "540ca083",
   "metadata": {},
   "outputs": [
    {
     "name": "stdout",
     "output_type": "stream",
     "text": [
      "And and CCONJ CC cc gave [] Xxx True True\n",
      "they they PRON PRP nsubj gave [] xxxx True True\n",
      "gave give VERB VBD ROOT gave ['And', 'they', 'some', 'to', '.'] xxxx True False\n",
      "some some PRON DT dobj gave ['of'] xxxx True True\n",
      "of of ADP IN prep some ['gifts'] xx True True\n",
      "the the DET DT det gifts [] xxx True True\n",
      "most most ADV RBS advmod wonderful [] xxxx True True\n",
      "wonderful wonderful ADJ JJ amod gifts ['most'] xxxx True False\n",
      "gifts gift NOUN NNS pobj of ['the', 'wonderful'] xxxx True False\n",
      "to to ADP IN dative gave ['everyone'] xx True True\n",
      "everyone everyone PRON NN pobj to [] xxxx True True\n",
      ". . PUNCT . punct gave [] . False False\n"
     ]
    }
   ],
   "source": [
    "for token in doc1:\n",
    "    print(token.text, token.lemma_, token.pos_, token.tag_, token.dep_, token.head, [child.text for child in token.children],\n",
    "            token.shape_, token.is_alpha, token.is_stop)"
   ]
  },
  {
   "cell_type": "code",
   "execution_count": 9,
   "id": "6026c8d3",
   "metadata": {},
   "outputs": [
    {
     "data": {
      "text/html": [
       "<span class=\"tex2jax_ignore\"><svg xmlns=\"http://www.w3.org/2000/svg\" xmlns:xlink=\"http://www.w3.org/1999/xlink\" xml:lang=\"en\" id=\"3f4a39c8b60d4661879e9c2f6c0653e1-0\" class=\"displacy\" width=\"1975\" height=\"574.5\" direction=\"ltr\" style=\"max-width: none; height: 574.5px; color: #000000; background: #ffffff; font-family: Arial; direction: ltr\">\n",
       "<text class=\"displacy-token\" fill=\"currentColor\" text-anchor=\"middle\" y=\"484.5\">\n",
       "    <tspan class=\"displacy-word\" fill=\"currentColor\" x=\"50\">And</tspan>\n",
       "    <tspan class=\"displacy-tag\" dy=\"2em\" fill=\"currentColor\" x=\"50\">CCONJ</tspan>\n",
       "</text>\n",
       "\n",
       "<text class=\"displacy-token\" fill=\"currentColor\" text-anchor=\"middle\" y=\"484.5\">\n",
       "    <tspan class=\"displacy-word\" fill=\"currentColor\" x=\"225\">they</tspan>\n",
       "    <tspan class=\"displacy-tag\" dy=\"2em\" fill=\"currentColor\" x=\"225\">PRON</tspan>\n",
       "</text>\n",
       "\n",
       "<text class=\"displacy-token\" fill=\"currentColor\" text-anchor=\"middle\" y=\"484.5\">\n",
       "    <tspan class=\"displacy-word\" fill=\"currentColor\" x=\"400\">gave</tspan>\n",
       "    <tspan class=\"displacy-tag\" dy=\"2em\" fill=\"currentColor\" x=\"400\">VERB</tspan>\n",
       "</text>\n",
       "\n",
       "<text class=\"displacy-token\" fill=\"currentColor\" text-anchor=\"middle\" y=\"484.5\">\n",
       "    <tspan class=\"displacy-word\" fill=\"currentColor\" x=\"575\">some</tspan>\n",
       "    <tspan class=\"displacy-tag\" dy=\"2em\" fill=\"currentColor\" x=\"575\">PRON</tspan>\n",
       "</text>\n",
       "\n",
       "<text class=\"displacy-token\" fill=\"currentColor\" text-anchor=\"middle\" y=\"484.5\">\n",
       "    <tspan class=\"displacy-word\" fill=\"currentColor\" x=\"750\">of</tspan>\n",
       "    <tspan class=\"displacy-tag\" dy=\"2em\" fill=\"currentColor\" x=\"750\">ADP</tspan>\n",
       "</text>\n",
       "\n",
       "<text class=\"displacy-token\" fill=\"currentColor\" text-anchor=\"middle\" y=\"484.5\">\n",
       "    <tspan class=\"displacy-word\" fill=\"currentColor\" x=\"925\">the</tspan>\n",
       "    <tspan class=\"displacy-tag\" dy=\"2em\" fill=\"currentColor\" x=\"925\">DET</tspan>\n",
       "</text>\n",
       "\n",
       "<text class=\"displacy-token\" fill=\"currentColor\" text-anchor=\"middle\" y=\"484.5\">\n",
       "    <tspan class=\"displacy-word\" fill=\"currentColor\" x=\"1100\">most</tspan>\n",
       "    <tspan class=\"displacy-tag\" dy=\"2em\" fill=\"currentColor\" x=\"1100\">ADV</tspan>\n",
       "</text>\n",
       "\n",
       "<text class=\"displacy-token\" fill=\"currentColor\" text-anchor=\"middle\" y=\"484.5\">\n",
       "    <tspan class=\"displacy-word\" fill=\"currentColor\" x=\"1275\">wonderful</tspan>\n",
       "    <tspan class=\"displacy-tag\" dy=\"2em\" fill=\"currentColor\" x=\"1275\">ADJ</tspan>\n",
       "</text>\n",
       "\n",
       "<text class=\"displacy-token\" fill=\"currentColor\" text-anchor=\"middle\" y=\"484.5\">\n",
       "    <tspan class=\"displacy-word\" fill=\"currentColor\" x=\"1450\">gifts</tspan>\n",
       "    <tspan class=\"displacy-tag\" dy=\"2em\" fill=\"currentColor\" x=\"1450\">NOUN</tspan>\n",
       "</text>\n",
       "\n",
       "<text class=\"displacy-token\" fill=\"currentColor\" text-anchor=\"middle\" y=\"484.5\">\n",
       "    <tspan class=\"displacy-word\" fill=\"currentColor\" x=\"1625\">to</tspan>\n",
       "    <tspan class=\"displacy-tag\" dy=\"2em\" fill=\"currentColor\" x=\"1625\">ADP</tspan>\n",
       "</text>\n",
       "\n",
       "<text class=\"displacy-token\" fill=\"currentColor\" text-anchor=\"middle\" y=\"484.5\">\n",
       "    <tspan class=\"displacy-word\" fill=\"currentColor\" x=\"1800\">everyone.</tspan>\n",
       "    <tspan class=\"displacy-tag\" dy=\"2em\" fill=\"currentColor\" x=\"1800\">PRON</tspan>\n",
       "</text>\n",
       "\n",
       "<g class=\"displacy-arrow\">\n",
       "    <path class=\"displacy-arc\" id=\"arrow-3f4a39c8b60d4661879e9c2f6c0653e1-0-0\" stroke-width=\"2px\" d=\"M70,439.5 C70,264.5 385.0,264.5 385.0,439.5\" fill=\"none\" stroke=\"currentColor\"/>\n",
       "    <text dy=\"1.25em\" style=\"font-size: 0.8em; letter-spacing: 1px\">\n",
       "        <textPath xlink:href=\"#arrow-3f4a39c8b60d4661879e9c2f6c0653e1-0-0\" class=\"displacy-label\" startOffset=\"50%\" side=\"left\" fill=\"currentColor\" text-anchor=\"middle\">cc</textPath>\n",
       "    </text>\n",
       "    <path class=\"displacy-arrowhead\" d=\"M70,441.5 L62,429.5 78,429.5\" fill=\"currentColor\"/>\n",
       "</g>\n",
       "\n",
       "<g class=\"displacy-arrow\">\n",
       "    <path class=\"displacy-arc\" id=\"arrow-3f4a39c8b60d4661879e9c2f6c0653e1-0-1\" stroke-width=\"2px\" d=\"M245,439.5 C245,352.0 380.0,352.0 380.0,439.5\" fill=\"none\" stroke=\"currentColor\"/>\n",
       "    <text dy=\"1.25em\" style=\"font-size: 0.8em; letter-spacing: 1px\">\n",
       "        <textPath xlink:href=\"#arrow-3f4a39c8b60d4661879e9c2f6c0653e1-0-1\" class=\"displacy-label\" startOffset=\"50%\" side=\"left\" fill=\"currentColor\" text-anchor=\"middle\">nsubj</textPath>\n",
       "    </text>\n",
       "    <path class=\"displacy-arrowhead\" d=\"M245,441.5 L237,429.5 253,429.5\" fill=\"currentColor\"/>\n",
       "</g>\n",
       "\n",
       "<g class=\"displacy-arrow\">\n",
       "    <path class=\"displacy-arc\" id=\"arrow-3f4a39c8b60d4661879e9c2f6c0653e1-0-2\" stroke-width=\"2px\" d=\"M420,439.5 C420,352.0 555.0,352.0 555.0,439.5\" fill=\"none\" stroke=\"currentColor\"/>\n",
       "    <text dy=\"1.25em\" style=\"font-size: 0.8em; letter-spacing: 1px\">\n",
       "        <textPath xlink:href=\"#arrow-3f4a39c8b60d4661879e9c2f6c0653e1-0-2\" class=\"displacy-label\" startOffset=\"50%\" side=\"left\" fill=\"currentColor\" text-anchor=\"middle\">dobj</textPath>\n",
       "    </text>\n",
       "    <path class=\"displacy-arrowhead\" d=\"M555.0,441.5 L563.0,429.5 547.0,429.5\" fill=\"currentColor\"/>\n",
       "</g>\n",
       "\n",
       "<g class=\"displacy-arrow\">\n",
       "    <path class=\"displacy-arc\" id=\"arrow-3f4a39c8b60d4661879e9c2f6c0653e1-0-3\" stroke-width=\"2px\" d=\"M595,439.5 C595,352.0 730.0,352.0 730.0,439.5\" fill=\"none\" stroke=\"currentColor\"/>\n",
       "    <text dy=\"1.25em\" style=\"font-size: 0.8em; letter-spacing: 1px\">\n",
       "        <textPath xlink:href=\"#arrow-3f4a39c8b60d4661879e9c2f6c0653e1-0-3\" class=\"displacy-label\" startOffset=\"50%\" side=\"left\" fill=\"currentColor\" text-anchor=\"middle\">prep</textPath>\n",
       "    </text>\n",
       "    <path class=\"displacy-arrowhead\" d=\"M730.0,441.5 L738.0,429.5 722.0,429.5\" fill=\"currentColor\"/>\n",
       "</g>\n",
       "\n",
       "<g class=\"displacy-arrow\">\n",
       "    <path class=\"displacy-arc\" id=\"arrow-3f4a39c8b60d4661879e9c2f6c0653e1-0-4\" stroke-width=\"2px\" d=\"M945,439.5 C945,177.0 1440.0,177.0 1440.0,439.5\" fill=\"none\" stroke=\"currentColor\"/>\n",
       "    <text dy=\"1.25em\" style=\"font-size: 0.8em; letter-spacing: 1px\">\n",
       "        <textPath xlink:href=\"#arrow-3f4a39c8b60d4661879e9c2f6c0653e1-0-4\" class=\"displacy-label\" startOffset=\"50%\" side=\"left\" fill=\"currentColor\" text-anchor=\"middle\">det</textPath>\n",
       "    </text>\n",
       "    <path class=\"displacy-arrowhead\" d=\"M945,441.5 L937,429.5 953,429.5\" fill=\"currentColor\"/>\n",
       "</g>\n",
       "\n",
       "<g class=\"displacy-arrow\">\n",
       "    <path class=\"displacy-arc\" id=\"arrow-3f4a39c8b60d4661879e9c2f6c0653e1-0-5\" stroke-width=\"2px\" d=\"M1120,439.5 C1120,352.0 1255.0,352.0 1255.0,439.5\" fill=\"none\" stroke=\"currentColor\"/>\n",
       "    <text dy=\"1.25em\" style=\"font-size: 0.8em; letter-spacing: 1px\">\n",
       "        <textPath xlink:href=\"#arrow-3f4a39c8b60d4661879e9c2f6c0653e1-0-5\" class=\"displacy-label\" startOffset=\"50%\" side=\"left\" fill=\"currentColor\" text-anchor=\"middle\">advmod</textPath>\n",
       "    </text>\n",
       "    <path class=\"displacy-arrowhead\" d=\"M1120,441.5 L1112,429.5 1128,429.5\" fill=\"currentColor\"/>\n",
       "</g>\n",
       "\n",
       "<g class=\"displacy-arrow\">\n",
       "    <path class=\"displacy-arc\" id=\"arrow-3f4a39c8b60d4661879e9c2f6c0653e1-0-6\" stroke-width=\"2px\" d=\"M1295,439.5 C1295,352.0 1430.0,352.0 1430.0,439.5\" fill=\"none\" stroke=\"currentColor\"/>\n",
       "    <text dy=\"1.25em\" style=\"font-size: 0.8em; letter-spacing: 1px\">\n",
       "        <textPath xlink:href=\"#arrow-3f4a39c8b60d4661879e9c2f6c0653e1-0-6\" class=\"displacy-label\" startOffset=\"50%\" side=\"left\" fill=\"currentColor\" text-anchor=\"middle\">amod</textPath>\n",
       "    </text>\n",
       "    <path class=\"displacy-arrowhead\" d=\"M1295,441.5 L1287,429.5 1303,429.5\" fill=\"currentColor\"/>\n",
       "</g>\n",
       "\n",
       "<g class=\"displacy-arrow\">\n",
       "    <path class=\"displacy-arc\" id=\"arrow-3f4a39c8b60d4661879e9c2f6c0653e1-0-7\" stroke-width=\"2px\" d=\"M770,439.5 C770,89.5 1445.0,89.5 1445.0,439.5\" fill=\"none\" stroke=\"currentColor\"/>\n",
       "    <text dy=\"1.25em\" style=\"font-size: 0.8em; letter-spacing: 1px\">\n",
       "        <textPath xlink:href=\"#arrow-3f4a39c8b60d4661879e9c2f6c0653e1-0-7\" class=\"displacy-label\" startOffset=\"50%\" side=\"left\" fill=\"currentColor\" text-anchor=\"middle\">pobj</textPath>\n",
       "    </text>\n",
       "    <path class=\"displacy-arrowhead\" d=\"M1445.0,441.5 L1453.0,429.5 1437.0,429.5\" fill=\"currentColor\"/>\n",
       "</g>\n",
       "\n",
       "<g class=\"displacy-arrow\">\n",
       "    <path class=\"displacy-arc\" id=\"arrow-3f4a39c8b60d4661879e9c2f6c0653e1-0-8\" stroke-width=\"2px\" d=\"M420,439.5 C420,2.0 1625.0,2.0 1625.0,439.5\" fill=\"none\" stroke=\"currentColor\"/>\n",
       "    <text dy=\"1.25em\" style=\"font-size: 0.8em; letter-spacing: 1px\">\n",
       "        <textPath xlink:href=\"#arrow-3f4a39c8b60d4661879e9c2f6c0653e1-0-8\" class=\"displacy-label\" startOffset=\"50%\" side=\"left\" fill=\"currentColor\" text-anchor=\"middle\">dative</textPath>\n",
       "    </text>\n",
       "    <path class=\"displacy-arrowhead\" d=\"M1625.0,441.5 L1633.0,429.5 1617.0,429.5\" fill=\"currentColor\"/>\n",
       "</g>\n",
       "\n",
       "<g class=\"displacy-arrow\">\n",
       "    <path class=\"displacy-arc\" id=\"arrow-3f4a39c8b60d4661879e9c2f6c0653e1-0-9\" stroke-width=\"2px\" d=\"M1645,439.5 C1645,352.0 1780.0,352.0 1780.0,439.5\" fill=\"none\" stroke=\"currentColor\"/>\n",
       "    <text dy=\"1.25em\" style=\"font-size: 0.8em; letter-spacing: 1px\">\n",
       "        <textPath xlink:href=\"#arrow-3f4a39c8b60d4661879e9c2f6c0653e1-0-9\" class=\"displacy-label\" startOffset=\"50%\" side=\"left\" fill=\"currentColor\" text-anchor=\"middle\">pobj</textPath>\n",
       "    </text>\n",
       "    <path class=\"displacy-arrowhead\" d=\"M1780.0,441.5 L1788.0,429.5 1772.0,429.5\" fill=\"currentColor\"/>\n",
       "</g>\n",
       "</svg></span>"
      ],
      "text/plain": [
       "<IPython.core.display.HTML object>"
      ]
     },
     "metadata": {},
     "output_type": "display_data"
    }
   ],
   "source": [
    "spacy.displacy.render(doc1, style=\"dep\", jupyter=True)"
   ]
  },
  {
   "cell_type": "code",
   "execution_count": 10,
   "id": "75fbfd2e",
   "metadata": {},
   "outputs": [],
   "source": [
    "DISTRIBUTIVE_FRAME = {\n",
    "    \"priority\": 1,\n",
    "    \"slots\": {\n",
    "        0: {\n",
    "            \"variable_or_constant\": \"constant\",\n",
    "            \"synt_type\": \"DET\",\n",
    "            \"roles\": {\"\": 1},\n",
    "            \"head\": None,\n",
    "            \"requirements\": [\n",
    "                \"both\",\n",
    "                \"either\",\n",
    "                \"neither\",\n",
    "                \"every\",\n",
    "                \"each\",\n",
    "                \"all\",\n",
    "                \"none\",\n",
    "                \"every one\",\n",
    "                \"everyone\",\n",
    "                \"some\",\n",
    "            ],\n",
    "            \"form\": \"\",\n",
    "            \"requirement_type\": \"required\",\n",
    "        },\n",
    "        1: {\n",
    "            \"variable_or_constant\": \"constant\",\n",
    "            \"synt_type\": \"ADP\",\n",
    "            \"roles\": {\"prep\": 1},\n",
    "            \"head\": 0,\n",
    "            \"requirements\": \"of\",\n",
    "            \"form\": \"\",\n",
    "            \"requirement_type\": \"required\",\n",
    "        },\n",
    "        2: {\n",
    "            \"variable_or_constant\": \"variable\",\n",
    "            \"synt_type\": \"NP\",\n",
    "            \"roles\": {\"pobj\": 1},\n",
    "            \"head\": 1,\n",
    "            \"requirements\": \"NP\",\n",
    "            \"form\": \"\",\n",
    "            \"requirement_type\": \"required\",\n",
    "        },\n",
    "    },\n",
    "    \"dependent_processes\": [\"NPCreator\"],\n",
    "}"
   ]
  },
  {
   "cell_type": "code",
   "execution_count": 18,
   "id": "f492a7cb",
   "metadata": {},
   "outputs": [],
   "source": [
    "class FrameSlot:\n",
    "    @classmethod\n",
    "    def from_slot_dict(cls, slot_dict):\n",
    "        frame_slot = FrameSlot()\n",
    "        frame_slot.__dict__.update(**slot_dict)\n",
    "        frame_slot.candidates = []\n",
    "        frame_slot.bond = None\n",
    "\n",
    "        return frame_slot\n",
    "\n",
    "    def set_bond(self, candidate):\n",
    "        self.bond = candidate\n",
    "\n",
    "    def get_bond(self):\n",
    "        return self.bond\n",
    "\n",
    "    def set_form(self, form):\n",
    "        self.form = form\n",
    "\n",
    "    def add_candidate(self, candidate):\n",
    "        self.candidates.append(candidate)\n",
    "\n",
    "    def extend_candidates(self, candidate_list):\n",
    "        self.candidates.extend(candidate_list)\n",
    "\n",
    "    def remove_candidate(self, candidate):\n",
    "        self.candidates.remove(candidate)\n",
    "\n",
    "    def replace_candidates(self, candidate_list):\n",
    "        self.candidates = candidate_list\n",
    "\n",
    "\n",
    "class Frame:\n",
    "    @classmethod\n",
    "    def from_frame_dict(cls, frame_dict):\n",
    "        frame = Frame()\n",
    "        frame.frame_dict = frame_dict\n",
    "        frame.slots = []\n",
    "        # Candidate for deletion if not found useful until Nov 13\n",
    "        # frame.required_slots_to_find = len([slot for slot in frame.slots if slot.optional == False])\n",
    "        frame.all_required_slots_found = False\n",
    "\n",
    "        # Candidate for deletion, if not found useful until Nov 4, 2021\n",
    "        # frame.matcher = None\n",
    "        frame.priority = frame_dict[\"priority\"]\n",
    "        slot_dict = frame_dict[\"slots\"]\n",
    "        for key in slot_dict.keys():\n",
    "            frame.slots.append(FrameSlot.from_slot_dict(slot_dict[key]))\n",
    "        # TODO: think how to process conditionally required slots\n",
    "        frame.required_slots_to_find = len(\n",
    "            [slot for slot in frame.slots if slot.requirement_type == \"required\"]\n",
    "        )\n",
    "\n",
    "        frame.num_dependent_processes = 0\n",
    "#         if \"dependent_processes\" in frame_dict:\n",
    "#             frame.dependent_processes = []\n",
    "#             for dependent_process_name in frame_dict[\"dependent_processes\"]:\n",
    "#                 dependent_process_class = getattr(codelets, dependent_process_name)\n",
    "#                 dependent_process = dependent_process_class()\n",
    "#                 frame.dependent_processes.append(dependent_process)\n",
    "#             frame.num_dependent_processes = len(frame.dependent_processes)\n",
    "\n",
    "        return frame\n",
    "\n",
    "    def set_bond(self, slot_id, candidate):\n",
    "        self.slots[slot_id].set_bond(candidate)\n",
    "\n",
    "    def get_bond(self, slot_id):\n",
    "        return self.slots[slot_id].get_bond()\n",
    "\n",
    "    def set_form(self, slot_id, form):\n",
    "        self.slots[slot_id].set_form(form)\n",
    "\n",
    "    def set_all_required_slots_found(self):\n",
    "        self.all_required_slots_found = True\n",
    "\n",
    "    def get_all_required_slots_found(self):\n",
    "        return self.all_required_slots_found\n",
    "\n",
    "    def reduce_required_slots_to_find(self, number_of_slots: int = 1):\n",
    "        self.required_slots_to_find -= number_of_slots\n",
    "\n",
    "    def get_all_bonded(self):\n",
    "        return set().union(*[slot.bond for slot in self.slots if slot.bond is not None])\n",
    "\n",
    "    def copy(self):\n",
    "        return Frame.from_frame_dict(self.frame_dict)\n",
    "\n",
    "    def __str__(self):\n",
    "        frame_str = \"\"\n",
    "        for key, value in self.__dict__.items():\n",
    "            if isinstance(value, List):\n",
    "                for item in value:\n",
    "                    if isinstance(item, FrameSlot):\n",
    "                        frame_str += str(item.__dict__) + \", \\n\"\n",
    "                    elif isinstance(item, codelets.WorkSpaceModifier):\n",
    "                        frame_str += f\"({str(key)}, {str(item)})\" + \", \\n\"\n",
    "                    else:\n",
    "                        frame_str += f\"({str(key)}, {str(value)})\"\n",
    "        return frame_str\n"
   ]
  },
  {
   "cell_type": "code",
   "execution_count": 19,
   "id": "345d9455",
   "metadata": {},
   "outputs": [],
   "source": [
    "dist_frame = Frame.from_frame_dict(DISTRIBUTIVE_FRAME)"
   ]
  },
  {
   "cell_type": "code",
   "execution_count": 22,
   "id": "d0d0402a",
   "metadata": {},
   "outputs": [
    {
     "name": "stdout",
     "output_type": "stream",
     "text": [
      "{'variable_or_constant': 'constant', 'synt_type': 'DET', 'roles': {'': 1}, 'head': None, 'requirements': ['both', 'either', 'neither', 'every', 'each', 'all', 'none', 'every one', 'everyone', 'some'], 'form': '', 'requirement_type': 'required', 'candidates': [], 'bond': None}, \n",
      "{'variable_or_constant': 'constant', 'synt_type': 'ADP', 'roles': {'prep': 1}, 'head': 0, 'requirements': 'of', 'form': '', 'requirement_type': 'required', 'candidates': [], 'bond': None}, \n",
      "{'variable_or_constant': 'variable', 'synt_type': 'NP', 'roles': {'pobj': 1}, 'head': 1, 'requirements': 'NP', 'form': '', 'requirement_type': 'required', 'candidates': [], 'bond': None}, \n",
      "\n"
     ]
    }
   ],
   "source": [
    "print(dist_frame)"
   ]
  },
  {
   "cell_type": "code",
   "execution_count": 23,
   "id": "38f3076f",
   "metadata": {},
   "outputs": [
    {
     "data": {
      "text/plain": [
       "[<__main__.FrameSlot at 0x7fdbb282da30>,\n",
       " <__main__.FrameSlot at 0x7fdbb282d460>,\n",
       " <__main__.FrameSlot at 0x7fdbb282d0d0>]"
      ]
     },
     "execution_count": 23,
     "metadata": {},
     "output_type": "execute_result"
    }
   ],
   "source": [
    "dist_frame.slots"
   ]
  },
  {
   "cell_type": "code",
   "execution_count": 25,
   "id": "4cd310da",
   "metadata": {},
   "outputs": [],
   "source": [
    "dist_frame.slots[0].add_candidate([3])\n",
    "dist_frame.slots[0].add_candidate([10])"
   ]
  },
  {
   "cell_type": "code",
   "execution_count": 26,
   "id": "98f4bd3d",
   "metadata": {},
   "outputs": [],
   "source": [
    "dist_frame.slots[1].add_candidate([4])"
   ]
  },
  {
   "cell_type": "code",
   "execution_count": 27,
   "id": "f860f0a3",
   "metadata": {},
   "outputs": [],
   "source": [
    "dist_frame.slots[2].add_candidate([5, 6, 7, 8])"
   ]
  },
  {
   "cell_type": "code",
   "execution_count": 38,
   "id": "60e14be8",
   "metadata": {},
   "outputs": [
    {
     "name": "stdout",
     "output_type": "stream",
     "text": [
      "[[3], [10]]\n",
      "2\n",
      "[4]\n",
      "9\n",
      "[]\n",
      "[[4]]\n",
      "3\n",
      "[8]\n",
      "[[5, 6, 7, 8]]\n",
      "8\n",
      "[]\n",
      "7\n",
      "[]\n",
      "8\n",
      "[6]\n",
      "4\n",
      "[5, 7]\n"
     ]
    }
   ],
   "source": [
    "for slot in dist_frame.slots:\n",
    "    print(slot.candidates)\n",
    "    for candidate in slot.candidates:\n",
    "        for canididate_ind in candidate:\n",
    "            for child in doc1[candidate_ind].children:\n",
    "                if child.i in \n",
    "            print([child.i for child in doc1[canididate_ind].children])"
   ]
  },
  {
   "cell_type": "code",
   "execution_count": 36,
   "id": "9df58db4",
   "metadata": {},
   "outputs": [
    {
     "data": {
      "text/plain": [
       "3"
      ]
     },
     "execution_count": 36,
     "metadata": {},
     "output_type": "execute_result"
    }
   ],
   "source": [
    "doc1[3].i"
   ]
  },
  {
   "cell_type": "code",
   "execution_count": null,
   "id": "8bddab92",
   "metadata": {},
   "outputs": [],
   "source": []
  }
 ],
 "metadata": {
  "kernelspec": {
   "display_name": "Python 3",
   "language": "python",
   "name": "python3"
  },
  "language_info": {
   "codemirror_mode": {
    "name": "ipython",
    "version": 3
   },
   "file_extension": ".py",
   "mimetype": "text/x-python",
   "name": "python",
   "nbconvert_exporter": "python",
   "pygments_lexer": "ipython3",
   "version": "3.8.8"
  }
 },
 "nbformat": 4,
 "nbformat_minor": 5
}
